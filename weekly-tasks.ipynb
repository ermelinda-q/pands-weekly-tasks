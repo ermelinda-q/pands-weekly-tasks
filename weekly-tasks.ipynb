{
 "cells": [
  {
   "cell_type": "markdown",
   "metadata": {},
   "source": [
    "### Programming and Scripting - Weekly Tasks Exercises\n",
    "#### by Ermelinda Qejvani\n",
    "***"
   ]
  },
  {
   "cell_type": "markdown",
   "metadata": {},
   "source": [
    "##### Weekly task 1\n",
    "\n",
    "The program prints out 'Hello World\""
   ]
  },
  {
   "cell_type": "code",
   "execution_count": 1,
   "metadata": {},
   "outputs": [
    {
     "name": "stdout",
     "output_type": "stream",
     "text": [
      "Hello World\n"
     ]
    }
   ],
   "source": [
    "# printing a message in python\n",
    "print(\"Hello World\") "
   ]
  },
  {
   "cell_type": "markdown",
   "metadata": {},
   "source": [
    "***\n",
    "##### Weekly task 2 - Statements\n",
    "\n",
    "This program should:\n",
    "1. Prompt the user and read in two money amounts (in cent)\n",
    "2. Add the two amounts\n",
    "3. Print out the answer in a human readable format with a euro sign and decimal point between the euro and cent of the amount \n",
    "\n",
    "The code for the program:"
   ]
  },
  {
   "cell_type": "code",
   "execution_count": 1,
   "metadata": {},
   "outputs": [
    {
     "name": "stdout",
     "output_type": "stream",
     "text": [
      "The amount you entered is  23 cent\n",
      "The amount you entered is 56 cent\n",
      "Total amount in cent is: 79 cent\n",
      "Total amount in euro is: €0.79\n"
     ]
    }
   ],
   "source": [
    "first_amount = int(input('Enter your first amount(in cent): ')) # asking the user to enter their first cent amount\n",
    "print(f'The amount you entered is  {first_amount} cent')              # message displayed with the amount entered\n",
    "\n",
    "second_amount = int(input('Enter your second amount(in cent): '))        # asking the user to enter their second amount.\n",
    "print(f'The amount you entered is {second_amount} cent')             # displaying the second amount entered.\n",
    "\n",
    "total_amount = first_amount + second_amount                     # defining how to get total amount in cent by adding both amounts\n",
    "total_in_euro = total_amount / 100                              # defining how to convert cents to euros\n",
    "\n",
    "print(f'Total amount in cent is: {total_amount} cent')               # displaying total amount in cents\n",
    "print(f'Total amount in euro is: €{total_in_euro}')             # displaying total amount in euros\n"
   ]
  },
  {
   "cell_type": "markdown",
   "metadata": {},
   "source": [
    "***\n",
    "##### Weekly task 3 - Variables\n",
    "\n",
    "Filename: accounts.py\n",
    "\n",
    "Task: Write a program that:\n",
    "1. Reads in a 10 character account number\n",
    "2. Outputs the account number with only the last 4 digits and the first 6 digits replaced with Xs\n",
    "3. Modify the program to deal with account numbers of any length"
   ]
  },
  {
   "cell_type": "markdown",
   "metadata": {},
   "source": [
    "The following code reads in a 10 character account number and displays six Xs followed by the last 4 numbers of the account"
   ]
  },
  {
   "cell_type": "code",
   "execution_count": 4,
   "metadata": {},
   "outputs": [
    {
     "name": "stdout",
     "output_type": "stream",
     "text": [
      "XXXXXX2145\n"
     ]
    }
   ],
   "source": [
    "account_number = int(input(\"Please enter a 10 digit account number: \"))     # variable account_number will hold an integer value from user input\n",
    "account_number_string = str(account_number)                                 # convert to string and hold it to account_number_string variable\n",
    "\n",
    "print('XXXXXX' + account_number_string[-4:])                                # simple way to modify string in printing six first digits as Xs + 4 last numbers"
   ]
  },
  {
   "cell_type": "markdown",
   "metadata": {},
   "source": [
    "This is the program modified to deal with account numbers of any length:"
   ]
  },
  {
   "cell_type": "code",
   "execution_count": 6,
   "metadata": {},
   "outputs": [
    {
     "name": "stdout",
     "output_type": "stream",
     "text": [
      "The account number you entered is:  XXXXXXXXX5421\n"
     ]
    }
   ],
   "source": [
    "account_number = int(input('Enter your account number: '))                  # variable account_number will hold an integer value from user input\n",
    "account_number_string = str(account_number)                                 # convert to string and hold it to account_number_string variable\n",
    "\n",
    "account_number_length = len(account_number_string)                          # getting the length of the string 'account_number_string'\n",
    "\n",
    "if account_number_length > 4:               # checking the length of account: if > 4\n",
    "    # multiplying by X a string (part of string till the 4 digit from the end substitutes them all by X)\n",
    "    # display_account_number is a variable that holds the new string modified \n",
    "    display_account_number = 'X' * (account_number_length -4) + account_number_string[-4:] \n",
    "    # print message with the account number modified\n",
    "    print('The account number you entered is: ', display_account_number) \n",
    "else:           # if account number is less then four digits, print the account number as it is entered by user\n",
    "          print('The account number you entered is too short\\nThe account number you entered is: ',account_number_string )\n"
   ]
  },
  {
   "cell_type": "markdown",
   "metadata": {},
   "source": [
    "***\n",
    "#### Weekly task 4"
   ]
  }
 ],
 "metadata": {
  "kernelspec": {
   "display_name": "base",
   "language": "python",
   "name": "python3"
  },
  "language_info": {
   "codemirror_mode": {
    "name": "ipython",
    "version": 3
   },
   "file_extension": ".py",
   "mimetype": "text/x-python",
   "name": "python",
   "nbconvert_exporter": "python",
   "pygments_lexer": "ipython3",
   "version": "3.11.5"
  }
 },
 "nbformat": 4,
 "nbformat_minor": 2
}

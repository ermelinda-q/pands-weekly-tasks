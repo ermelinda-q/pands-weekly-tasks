{
 "cells": [
  {
   "cell_type": "markdown",
   "metadata": {},
   "source": [
    "### Programming and Scripting - Weekly Tasks Exercises\n",
    "#### by Ermelinda Qejvani\n",
    "***"
   ]
  },
  {
   "cell_type": "markdown",
   "metadata": {},
   "source": [
    "##### Weekly task 1\n",
    "\n",
    "Filename: [helloworld.py](./helloworld.py)\n",
    "\n",
    "The program prints out 'Hello World\""
   ]
  },
  {
   "cell_type": "code",
   "execution_count": 9,
   "metadata": {},
   "outputs": [
    {
     "name": "stdout",
     "output_type": "stream",
     "text": [
      "Hello World\n"
     ]
    }
   ],
   "source": [
    "# printing a message in python\n",
    "print(\"Hello World\") "
   ]
  },
  {
   "cell_type": "markdown",
   "metadata": {},
   "source": [
    "***\n",
    "##### Weekly task 2 - Statements\n",
    "\n",
    "Filename: [bank.py](./bank.py)\n",
    "\n",
    "This program should:\n",
    "1. Prompt the user and read in two money amounts (in cent)\n",
    "2. Add the two amounts\n",
    "3. Print out the answer in a human readable format with a euro sign and decimal point between the euro and cent of the amount \n",
    "\n",
    "The code for the program:"
   ]
  },
  {
   "cell_type": "code",
   "execution_count": 10,
   "metadata": {},
   "outputs": [
    {
     "name": "stdout",
     "output_type": "stream",
     "text": [
      "The amount you entered is  65 cent\n",
      "The amount you entered is 876 cent\n",
      "Total amount in cent is: 941 cent\n",
      "Total amount in euro is: €9.41\n"
     ]
    }
   ],
   "source": [
    "first_amount = int(input('Enter your first amount(in cent): ')) # asking the user to enter their first cent amount\n",
    "print(f'The amount you entered is  {first_amount} cent')              # message displayed with the amount entered\n",
    "\n",
    "second_amount = int(input('Enter your second amount(in cent): '))        # asking the user to enter their second amount.\n",
    "print(f'The amount you entered is {second_amount} cent')             # displaying the second amount entered.\n",
    "\n",
    "total_amount = first_amount + second_amount                     # defining how to get total amount in cent by adding both amounts\n",
    "total_in_euro = total_amount / 100                              # defining how to convert cents to euros\n",
    "\n",
    "print(f'Total amount in cent is: {total_amount} cent')               # displaying total amount in cents\n",
    "print(f'Total amount in euro is: €{total_in_euro}')             # displaying total amount in euros\n"
   ]
  },
  {
   "cell_type": "markdown",
   "metadata": {},
   "source": [
    "***\n",
    "##### Weekly task 3 - Variables\n",
    "\n",
    "Filename: [accounts.py](./accounts.py)\n",
    "\n",
    "Task: Write a program that:\n",
    "1. Reads in a 10 character account number\n",
    "2. Outputs the account number with only the last 4 digits and the first 6 digits replaced with Xs\n",
    "3. Modify the program to deal with account numbers of any length"
   ]
  },
  {
   "cell_type": "markdown",
   "metadata": {},
   "source": [
    "The following code reads in a 10 character account number and displays six Xs followed by the last 4 numbers of the account"
   ]
  },
  {
   "cell_type": "code",
   "execution_count": 11,
   "metadata": {},
   "outputs": [
    {
     "name": "stdout",
     "output_type": "stream",
     "text": [
      "XXXXXX8987\n"
     ]
    }
   ],
   "source": [
    "account_number = int(input(\"Please enter a 10 digit account number: \"))          # variable account_number will hold an integer value from user input\n",
    "account_number_string = str(account_number)                                 # convert to string and hold it to account_number_string variable\n",
    "\n",
    "print('XXXXXX' + account_number_string[-4:])                                # simple way to modify string in printing six first digits as Xs + 4 last numbers"
   ]
  },
  {
   "cell_type": "markdown",
   "metadata": {},
   "source": [
    "This is the program modified to deal with account numbers of any length:"
   ]
  },
  {
   "cell_type": "code",
   "execution_count": 12,
   "metadata": {},
   "outputs": [
    {
     "name": "stdout",
     "output_type": "stream",
     "text": [
      "The account number you entered is:  XXXXXXXXXX5467\n"
     ]
    }
   ],
   "source": [
    "account_number = int(input('Enter your account number: '))                  # variable account_number will hold an integer value from user input\n",
    "account_number_string = str(account_number)                                 # convert to string and hold it to account_number_string variable\n",
    "\n",
    "account_number_length = len(account_number_string)                          # getting the length of the string 'account_number_string'\n",
    "\n",
    "if account_number_length > 4:                                               # checking the length of account: if > 4\n",
    "    # multiplying by X a string (part of string till the 4 digit from the end substitutes them all by X)\n",
    "    # display_account_number is a variable that holds the new string modified \n",
    "    display_account_number = 'X' * (account_number_length -4) + account_number_string[-4:] \n",
    "    # print message with the account number modified\n",
    "    print('The account number you entered is: ', display_account_number) \n",
    "else:           # if account number is less then four digits, print the account number as it is entered by user\n",
    "    print('The account number you entered is too short\\nThe account number you entered is: ',account_number_string )\n"
   ]
  },
  {
   "cell_type": "markdown",
   "metadata": {},
   "source": [
    "***\n",
    "##### Weekly task 4 - Controlling the flow\n",
    "\n",
    "Filename: [collatz.py](./collatz.py)\n",
    "\n",
    "Task: Write a program that:\n",
    "1. Asks the user to input any positive integer\n",
    "2. Outputs the successive values of the following calculations\n",
    "    - At each step calculate next value by taking the current value and:\n",
    "        1. if even divide it by two\n",
    "        2. if odd multiply it by three and add one.\n",
    "3. Have the program end if the current value is one.\n",
    "\n",
    "The code for the program:"
   ]
  },
  {
   "cell_type": "code",
   "execution_count": 13,
   "metadata": {},
   "outputs": [
    {
     "name": "stdout",
     "output_type": "stream",
     "text": [
      "The number you entered is: 98\n",
      "Number Sequence is: [98, 49, 148, 74, 37, 112, 56, 28, 14, 7, 22, 11, 34, 17, 52, 26, 13, 40, 20, 10, 5, 16, 8, 4, 2, 1]\n"
     ]
    }
   ],
   "source": [
    "number_list = []                                                    # creating a list to hold values added by calculations\n",
    "\n",
    "while True:                                                         # this while loop is created to run the program until the user is entering a positive integer\n",
    "    try:    \n",
    "        first_number = int(input(\"Please enter a positive integer: \"))      # this is the first number entered by user assigned to 'first_number' variable\n",
    "    except ValueError:                                              # calling the build in function to catch a value entered diff from integer\n",
    "        print(\"You entered an invalid value.\")\n",
    "        continue                                                    # continue here starts the code from the start 'try'\n",
    "    if first_number < 0:                                            # if integer entered has a negative value\n",
    "        print(\"You should enter a positive value.\")                 # print a message\n",
    "        continue                                                    # and try again\n",
    "    print(f\"The number you entered is: {first_number}\")             # this is the first print when a positive integer is entered by user\n",
    "    \n",
    "    if first_number == 1:                                               # if user enters one that will be the only value added on the list\n",
    "        number_list.append(first_number)                                # the program will display 1 and closes\n",
    "        print(f\"Number Sequence is: {number_list}\")                     # in Collatz Conjecture when you arrive in number 1 the program will enter in a loop with numbers (1, 4(1+*3+1), 2(4/2), 1(2/2))\n",
    "    elif first_number > 0:                                              # next condition 'x>0'\n",
    "        while first_number > 1:                                         # creating a loop with the condition to run while value of number > 1\n",
    "            number_list.append(first_number)                            # append  the list 'number_list' with the number\n",
    "            if (first_number % 2):                                      # check if number is odd\n",
    "                first_number = int(3 * first_number + 1)                # if odd:  multiply by 3 then adding 1\n",
    "            else:                                                       # else: if number is even\n",
    "                first_number = int(first_number / 2)                    # devide number by 2\n",
    "        number_list.append(1)                                           # I had to add number 1 in the end because while first_number >= 1 didn't work\n",
    "                                                                        # as stated above if number is 1 program enters in a loop and doesn't stop\n",
    "        print(f\"Number Sequence is: {number_list}\")                     # print the list of number from the list created from above calculations\n",
    "\n",
    "    break                                                               # break the while loop and exit the program"
   ]
  },
  {
   "cell_type": "markdown",
   "metadata": {},
   "source": [
    "***\n",
    "##### Weekly task 5 - Data\n",
    "\n",
    "Filename: [weekday.py](./weekday.py)\n",
    "\n",
    "Task: Write a program that outputs whether or not today is a weekday.\n",
    "\n",
    "This program will display:\n",
    "1. the day of the week, date, month, year\n",
    "2. Depending on the day of the week, it will also display one of the following messages:\n",
    "    - 'Yes, unfortunately today is a weekday!' or \n",
    "    - 'It is the weekend, yay!'\n",
    "\n",
    "The code for the program:"
   ]
  },
  {
   "cell_type": "code",
   "execution_count": 14,
   "metadata": {},
   "outputs": [
    {
     "name": "stdout",
     "output_type": "stream",
     "text": [
      "Today is Wednesday, 17 April 2024\n",
      "Yes, unfortunately today is a weekday!\n"
     ]
    }
   ],
   "source": [
    "import datetime                                         # calling built in module datetime\n",
    "\n",
    "today_date = datetime.date.today()                      # variable today_date is storing today's date 'datetime.date returns the date without the hours'\n",
    "\n",
    "current_day = today_date.strftime('%A')                 # current_day is storing the name of the day in full format eg: Monday\n",
    "current_date = today_date.strftime('%d %B %Y')          # current_date is storing the date, month(in full) and year\n",
    "\n",
    "print(f\"Today is {current_day}, {current_date}\")        # output message with the day, date, month and year\n",
    "\n",
    "if current_day in {\"Saturday\", \"Sunday\"}:               # check: if it is Saturday or Sunday\n",
    "    print(\"It is the weekend, yay!\")                    # output message\n",
    "else:                                                   # if it is not Saturday or Sunday\n",
    "    print(\"Yes, unfortunately today is a weekday!\")     # output message"
   ]
  },
  {
   "cell_type": "markdown",
   "metadata": {},
   "source": [
    "***\n",
    "##### Weekly task 6 - Functions\n",
    "\n",
    "Filename: [squareroot.py](./squareroot.py)\n",
    "\n",
    "Task: Write a program that takes a positive floating-point number as input and outputs an approximation of its square root.\n",
    "\n",
    "This program will:\n",
    "1. Create my own function called sqrt() that finds the square root of the float number.\n",
    "2. Should be based on Newton's method of estimating square roots.\n",
    "\n",
    "The code for the program:"
   ]
  },
  {
   "cell_type": "code",
   "execution_count": 15,
   "metadata": {},
   "outputs": [
    {
     "name": "stdout",
     "output_type": "stream",
     "text": [
      "The square root of 76.0 is approx. 8.717797887081346\n"
     ]
    }
   ],
   "source": [
    "def sqrt(n):                                    # defining a function 'sqrt'\n",
    "    # creating two variables 'init_val' and 'better'\n",
    "    init_val = 0.5 * n                          # setting initial value to 0.5  of the given number\n",
    "    better = 0.5 * (init_val + n/init_val)      # better variable is 0.5 (init_val + number/init_val)\n",
    "    while better != init_val:                   # the loop will run until 'better' will be equal to 'init_val'\n",
    "        init_val = better\n",
    "        better = 0.5 * (init_val + n/init_val)\n",
    "    return init_val\n",
    "\n",
    "\n",
    "while True:                                     # creating a loop to check that user is entering a positive value and will run until that happens\n",
    "    try:\n",
    "        n = float(input(\"Please enter a positive number: \"))  # n variable will hold the user input value as a float number\n",
    "    except ValueError:                          # if user enters anything apart from a float number\n",
    "        print(\"You entered an invalid value.\")  # print message of value error\n",
    "        continue                                # keep running the loop\n",
    "    if n < 0:                                   # another condition is to get a positive number so checking if n is negative\n",
    "        print(\"You entered a negative number.\") # notify the user that the value is  negative number\n",
    "        continue                                # keep running the loop and to back to try block again\n",
    "    else:                                       # else means user entered a positive number\n",
    "        sqrt_value = sqrt(n)                    # call sqrt function created above with the n value from user and assign that number to variable sqrt_value\n",
    "        break                                   # break the loop \n",
    "# Final message to user with input number and with its square root value displayed\n",
    "print(f\"The square root of {n} is approx. {sqrt_value}\")\n"
   ]
  },
  {
   "cell_type": "markdown",
   "metadata": {},
   "source": [
    "***\n",
    "##### Week 7 - Files\n",
    "\n",
    "Filename: [es.py](./es.py) and [week7.txt](./week7.txt)\n",
    "\n",
    "Task: This program reads a text file and outputs the number of e's it contains.\n",
    "1. The file name 'week7.txt' should be given as a second argument in command line after the es.py file\n",
    "2. First we check the length of the argument read on the command line\n",
    "3. In order for the program to read how many e's are in the file be two arguments:\n",
    "     - es.py - our program file\n",
    "     - week7.txt - file to read\n",
    "\n",
    "Code for the program:"
   ]
  },
  {
   "cell_type": "code",
   "execution_count": null,
   "metadata": {},
   "outputs": [],
   "source": [
    "import os       # calling 'os' module to check location of the file\n",
    "import sys      # calling 'sys' module to access command line arguments\n",
    "\n",
    "# the file name 'week7.txt' should be given as a second argument in command line after the es.py file\n",
    "# first we check the length of the argument read on the command line\n",
    "# in order for the program to read how many e's are in the file be two arguments:\n",
    "# 1. es.py - our program file\n",
    "# 2. week7.txt - file to read\n",
    "\n",
    "def letter_frequency(fileName, letter):     # creating a function 'letter_frequency' to read a file and the letter we will assign.\n",
    "        with open(FILENAME, 'r') as f:      # open file stored on variable FILENAME(see code below) in read only mode as f\n",
    "            text = f.read()                 # read the file\n",
    "            count = 0                       # set counter to 0\n",
    "            for char in text:               # variable char will be holding the requested letter\n",
    "                if char == letter:          # if char is equal to the letter\n",
    "                    count +=1               # count is increased by one\n",
    "            return count                    # return the last number counted\n",
    "\n",
    "if len(sys.argv) < 2:                       # checking the length of arguments entered by user if no file entered (file is the second argument)\n",
    "    print(\"Please add the filename as an argument on the command line.\")  # print message\n",
    "    exit()                                  # exit program\n",
    "elif len(sys.argv) > 2:                     # I'm putting this check to make sure that only two arguments are entered\n",
    "    print(\"Too many arguments. Please try to run the program again with only two arguments\")\n",
    "    exit()  \n",
    "elif len(sys.argv) == 2:                    # if two arguments entered in command line\n",
    "                                            # we are reading second argument [0 for program name, 1 for text file]\n",
    "    FILENAME = sys.argv[1]                  # variable FILENAME will hold the argument value(filename entered from user)\n",
    "    if not os.path.exists(FILENAME):        # checking if the file doesn't exist in the same directory as the program file\n",
    "        print(\"The file does not exist!\")   # print message\n",
    "        exit()                              # exit the program\n",
    "    else:                                   # if the file exists\n",
    "        print(f\"Reading file: {FILENAME}\")  # print message that the file entered is being processed by the program\n",
    "        # print the message with total numbers of e letters after calling function 'letter_frequency' created at the start of program\n",
    "        print(f\"There are {letter_frequency(FILENAME, 'e')} 'e' letters in the text\") \n",
    "    exit()"
   ]
  },
  {
   "cell_type": "code",
   "execution_count": 17,
   "metadata": {},
   "outputs": [
    {
     "name": "stdout",
     "output_type": "stream",
     "text": [
      "Reading file: week7.txt\n",
      "There are 72 'e' letters in the text\n"
     ]
    }
   ],
   "source": [
    "!python es.py week7.txt"
   ]
  },
  {
   "cell_type": "markdown",
   "metadata": {},
   "source": [
    "***\n",
    "##### Week 8 - Looking ahead\n",
    "\n",
    "Filename: [plottask.py](./plottask.py)\n",
    "\n",
    "Task: This program displays:\n",
    "1. a histogram of a normal distribution of a 1000 values with a mean of 5 and standard deviation of 2, \n",
    "2. a plot of the function  h(x)=x3 in the range 0 to 10, on the one set of axes.\n",
    "\n",
    "Code for the program:"
   ]
  },
  {
   "cell_type": "code",
   "execution_count": 18,
   "metadata": {},
   "outputs": [
    {
     "data": {
      "image/png": "[encoded data removed]",
      "text/plain": [
       "<Figure size 640x480 with 1 Axes>"
      ]
     },
     "metadata": {},
     "output_type": "display_data"
    }
   ],
   "source": [
    "import numpy as np\n",
    "import matplotlib.pyplot as plt\n",
    "\n",
    "\n",
    "# Building the histogram\n",
    "# define mean as 'mean', standard deviation as 'standard_dev' and number of values as 'num_of_values' based on the requirements\n",
    "mean = 5\n",
    "standard_dev = 2\n",
    "num_of_values = 1000\n",
    "\n",
    "# draw random samples from a normal distribution and store values in 'hist_data' \n",
    "hist_data = np.random.normal(mean, standard_dev, num_of_values)\n",
    "\n",
    "# plotting the histogram - data from hist_data, align in the middle, bar color pink, edges in green and label\n",
    "plt.hist(hist_data, align='mid', color='pink', edgecolor='green', label='Normal Distribution')\n",
    "\n",
    "\n",
    "# building the plot of the function\n",
    "# defining a function(h) for our h(x)=x^3 function\n",
    "def h(x):           # for each given value of x\n",
    "    return x**3     # return value entered to the power of 3\n",
    "\n",
    "# defining x_values as an array of evenly spaced values 0-10 using .linspace function\n",
    "x_values = np.linspace(0, 10)\n",
    "\n",
    "# defining y_values based on x_values to the power of 3 calling 'h' function defined above.\n",
    "y_values = h(x_values)\n",
    "\n",
    "# plotting the function using .plot with x_values, y_values, color black, and label.\n",
    "plt.plot(x_values, y_values, color='black', label='function $h(x) = x^3$')\n",
    "\n",
    "# setting the labels for x, y axis, title and legend of histogram and graph.\n",
    "\n",
    "plt.xlabel(xlabel='Distribution Values / Values of x', fontsize='medium', fontfamily='cursive', color='firebrick')\n",
    "plt.ylabel(ylabel='Frequency of Distribution Values / Values of h(x)',fontsize='medium', fontfamily='cursive', color='firebrick' )\n",
    "plt.title(label=\"Histogram of Normal Distribution and Plot of $h(x) = x^3$\\n(with a draggable legend)\", fontsize='x-large', fontfamily='cursive', color='firebrick')\n",
    "plt.legend(fancybox=True, fontsize='small', facecolor='cornsilk', edgecolor='goldenrod', draggable=True, shadow=True)\n",
    "plt.grid(True, color='olive')\n",
    "\n",
    "# display \n",
    "plt.show()"
   ]
  },
  {
   "cell_type": "markdown",
   "metadata": {},
   "source": [
    "***\n",
    "\n",
    "## The End"
   ]
  }
 ],
 "metadata": {
  "kernelspec": {
   "display_name": "base",
   "language": "python",
   "name": "python3"
  },
  "language_info": {
   "codemirror_mode": {
    "name": "ipython",
    "version": 3
   },
   "file_extension": ".py",
   "mimetype": "text/x-python",
   "name": "python",
   "nbconvert_exporter": "python",
   "pygments_lexer": "ipython3",
   "version": "3.11.5"
  }
 },
 "nbformat": 4,
 "nbformat_minor": 2
}
